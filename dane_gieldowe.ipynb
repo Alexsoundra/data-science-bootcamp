{
  "nbformat": 4,
  "nbformat_minor": 0,
  "metadata": {
    "colab": {
      "name": "dane_gieldowe.ipynb",
      "provenance": [],
      "authorship_tag": "ABX9TyM3wRoMUNSQ2SXXkCmUdcmN",
      "include_colab_link": true
    },
    "kernelspec": {
      "name": "python3",
      "display_name": "Python 3"
    },
    "language_info": {
      "name": "python"
    }
  },
  "cells": [
    {
      "cell_type": "markdown",
      "metadata": {
        "id": "view-in-github",
        "colab_type": "text"
      },
      "source": [
        "<a href=\"https://colab.research.google.com/github/Alexsoundra/data-science-bootcamp/blob/main/dane_gieldowe.ipynb\" target=\"_parent\"><img src=\"https://colab.research.google.com/assets/colab-badge.svg\" alt=\"Open In Colab\"/></a>"
      ]
    },
    {
      "cell_type": "code",
      "metadata": {
        "id": "ofFHCye_3GIu"
      },
      "source": [
        "import numpy as np"
      ],
      "execution_count": 1,
      "outputs": []
    },
    {
      "cell_type": "code",
      "metadata": {
        "id": "naHuFthp93j9"
      },
      "source": [
        "import pandas as pd"
      ],
      "execution_count": 2,
      "outputs": []
    },
    {
      "cell_type": "code",
      "metadata": {
        "colab": {
          "base_uri": "https://localhost:8080/"
        },
        "id": "hvA5dZwr95XT",
        "outputId": "f24ff2e4-94b7-47d5-af30-c4411d18f8f7"
      },
      "source": [
        "def fetch_financial_data(company='AMZN'):\n",
        "    \"\"\"Pobiera dane dotyczące notowań spółek na giełdzie według symboli\n",
        "    na serwisie stooq.pl\"\"\"\n",
        "    import pandas_datareader.data as web\n",
        "    return web.DataReader(name=company, data_source='stooq')\n",
        "\n",
        "df = fetch_financial_data()\n",
        "df.info()"
      ],
      "execution_count": 3,
      "outputs": [
        {
          "output_type": "stream",
          "text": [
            "<class 'pandas.core.frame.DataFrame'>\n",
            "DatetimeIndex: 1258 entries, 2021-07-16 to 2016-07-19\n",
            "Data columns (total 5 columns):\n",
            " #   Column  Non-Null Count  Dtype  \n",
            "---  ------  --------------  -----  \n",
            " 0   Open    1258 non-null   float64\n",
            " 1   High    1258 non-null   float64\n",
            " 2   Low     1258 non-null   float64\n",
            " 3   Close   1258 non-null   float64\n",
            " 4   Volume  1258 non-null   int64  \n",
            "dtypes: float64(4), int64(1)\n",
            "memory usage: 59.0 KB\n"
          ],
          "name": "stdout"
        }
      ]
    },
    {
      "cell_type": "code",
      "metadata": {
        "colab": {
          "base_uri": "https://localhost:8080/",
          "height": 450
        },
        "id": "Ms1BkEHP99S0",
        "outputId": "f0467143-eff3-436c-ab18-ea8b1362247d"
      },
      "source": [
        "df"
      ],
      "execution_count": 4,
      "outputs": [
        {
          "output_type": "execute_result",
          "data": {
            "text/html": [
              "<div>\n",
              "<style scoped>\n",
              "    .dataframe tbody tr th:only-of-type {\n",
              "        vertical-align: middle;\n",
              "    }\n",
              "\n",
              "    .dataframe tbody tr th {\n",
              "        vertical-align: top;\n",
              "    }\n",
              "\n",
              "    .dataframe thead th {\n",
              "        text-align: right;\n",
              "    }\n",
              "</style>\n",
              "<table border=\"1\" class=\"dataframe\">\n",
              "  <thead>\n",
              "    <tr style=\"text-align: right;\">\n",
              "      <th></th>\n",
              "      <th>Open</th>\n",
              "      <th>High</th>\n",
              "      <th>Low</th>\n",
              "      <th>Close</th>\n",
              "      <th>Volume</th>\n",
              "    </tr>\n",
              "    <tr>\n",
              "      <th>Date</th>\n",
              "      <th></th>\n",
              "      <th></th>\n",
              "      <th></th>\n",
              "      <th></th>\n",
              "      <th></th>\n",
              "    </tr>\n",
              "  </thead>\n",
              "  <tbody>\n",
              "    <tr>\n",
              "      <th>2021-07-16</th>\n",
              "      <td>3633.31</td>\n",
              "      <td>3646.0599</td>\n",
              "      <td>3570.4550</td>\n",
              "      <td>3573.63</td>\n",
              "      <td>4043706</td>\n",
              "    </tr>\n",
              "    <tr>\n",
              "      <th>2021-07-15</th>\n",
              "      <td>3694.20</td>\n",
              "      <td>3695.4000</td>\n",
              "      <td>3620.9200</td>\n",
              "      <td>3631.20</td>\n",
              "      <td>3185292</td>\n",
              "    </tr>\n",
              "    <tr>\n",
              "      <th>2021-07-14</th>\n",
              "      <td>3708.85</td>\n",
              "      <td>3717.6600</td>\n",
              "      <td>3660.8266</td>\n",
              "      <td>3681.68</td>\n",
              "      <td>3296568</td>\n",
              "    </tr>\n",
              "    <tr>\n",
              "      <th>2021-07-13</th>\n",
              "      <td>3702.10</td>\n",
              "      <td>3773.0782</td>\n",
              "      <td>3671.3200</td>\n",
              "      <td>3677.36</td>\n",
              "      <td>3845917</td>\n",
              "    </tr>\n",
              "    <tr>\n",
              "      <th>2021-07-12</th>\n",
              "      <td>3744.00</td>\n",
              "      <td>3757.2899</td>\n",
              "      <td>3696.7929</td>\n",
              "      <td>3718.55</td>\n",
              "      <td>2571635</td>\n",
              "    </tr>\n",
              "    <tr>\n",
              "      <th>...</th>\n",
              "      <td>...</td>\n",
              "      <td>...</td>\n",
              "      <td>...</td>\n",
              "      <td>...</td>\n",
              "      <td>...</td>\n",
              "    </tr>\n",
              "    <tr>\n",
              "      <th>2016-07-25</th>\n",
              "      <td>746.55</td>\n",
              "      <td>748.5000</td>\n",
              "      <td>735.3500</td>\n",
              "      <td>739.61</td>\n",
              "      <td>2396221</td>\n",
              "    </tr>\n",
              "    <tr>\n",
              "      <th>2016-07-22</th>\n",
              "      <td>747.79</td>\n",
              "      <td>751.2800</td>\n",
              "      <td>743.5300</td>\n",
              "      <td>744.86</td>\n",
              "      <td>1775547</td>\n",
              "    </tr>\n",
              "    <tr>\n",
              "      <th>2016-07-21</th>\n",
              "      <td>747.50</td>\n",
              "      <td>749.3600</td>\n",
              "      <td>742.7920</td>\n",
              "      <td>744.43</td>\n",
              "      <td>1751151</td>\n",
              "    </tr>\n",
              "    <tr>\n",
              "      <th>2016-07-20</th>\n",
              "      <td>744.00</td>\n",
              "      <td>746.2500</td>\n",
              "      <td>740.7000</td>\n",
              "      <td>745.72</td>\n",
              "      <td>1993629</td>\n",
              "    </tr>\n",
              "    <tr>\n",
              "      <th>2016-07-19</th>\n",
              "      <td>732.50</td>\n",
              "      <td>743.3300</td>\n",
              "      <td>732.3100</td>\n",
              "      <td>739.95</td>\n",
              "      <td>2053395</td>\n",
              "    </tr>\n",
              "  </tbody>\n",
              "</table>\n",
              "<p>1258 rows × 5 columns</p>\n",
              "</div>"
            ],
            "text/plain": [
              "               Open       High        Low    Close   Volume\n",
              "Date                                                       \n",
              "2021-07-16  3633.31  3646.0599  3570.4550  3573.63  4043706\n",
              "2021-07-15  3694.20  3695.4000  3620.9200  3631.20  3185292\n",
              "2021-07-14  3708.85  3717.6600  3660.8266  3681.68  3296568\n",
              "2021-07-13  3702.10  3773.0782  3671.3200  3677.36  3845917\n",
              "2021-07-12  3744.00  3757.2899  3696.7929  3718.55  2571635\n",
              "...             ...        ...        ...      ...      ...\n",
              "2016-07-25   746.55   748.5000   735.3500   739.61  2396221\n",
              "2016-07-22   747.79   751.2800   743.5300   744.86  1775547\n",
              "2016-07-21   747.50   749.3600   742.7920   744.43  1751151\n",
              "2016-07-20   744.00   746.2500   740.7000   745.72  1993629\n",
              "2016-07-19   732.50   743.3300   732.3100   739.95  2053395\n",
              "\n",
              "[1258 rows x 5 columns]"
            ]
          },
          "metadata": {
            "tags": []
          },
          "execution_count": 4
        }
      ]
    },
    {
      "cell_type": "code",
      "metadata": {
        "colab": {
          "base_uri": "https://localhost:8080/",
          "height": 235
        },
        "id": "6KD5Q99i_FkC",
        "outputId": "92296852-2f5c-4cef-a3a3-bfae67cfdbcb"
      },
      "source": [
        "df.head()"
      ],
      "execution_count": 5,
      "outputs": [
        {
          "output_type": "execute_result",
          "data": {
            "text/html": [
              "<div>\n",
              "<style scoped>\n",
              "    .dataframe tbody tr th:only-of-type {\n",
              "        vertical-align: middle;\n",
              "    }\n",
              "\n",
              "    .dataframe tbody tr th {\n",
              "        vertical-align: top;\n",
              "    }\n",
              "\n",
              "    .dataframe thead th {\n",
              "        text-align: right;\n",
              "    }\n",
              "</style>\n",
              "<table border=\"1\" class=\"dataframe\">\n",
              "  <thead>\n",
              "    <tr style=\"text-align: right;\">\n",
              "      <th></th>\n",
              "      <th>Open</th>\n",
              "      <th>High</th>\n",
              "      <th>Low</th>\n",
              "      <th>Close</th>\n",
              "      <th>Volume</th>\n",
              "    </tr>\n",
              "    <tr>\n",
              "      <th>Date</th>\n",
              "      <th></th>\n",
              "      <th></th>\n",
              "      <th></th>\n",
              "      <th></th>\n",
              "      <th></th>\n",
              "    </tr>\n",
              "  </thead>\n",
              "  <tbody>\n",
              "    <tr>\n",
              "      <th>2021-07-16</th>\n",
              "      <td>3633.31</td>\n",
              "      <td>3646.0599</td>\n",
              "      <td>3570.4550</td>\n",
              "      <td>3573.63</td>\n",
              "      <td>4043706</td>\n",
              "    </tr>\n",
              "    <tr>\n",
              "      <th>2021-07-15</th>\n",
              "      <td>3694.20</td>\n",
              "      <td>3695.4000</td>\n",
              "      <td>3620.9200</td>\n",
              "      <td>3631.20</td>\n",
              "      <td>3185292</td>\n",
              "    </tr>\n",
              "    <tr>\n",
              "      <th>2021-07-14</th>\n",
              "      <td>3708.85</td>\n",
              "      <td>3717.6600</td>\n",
              "      <td>3660.8266</td>\n",
              "      <td>3681.68</td>\n",
              "      <td>3296568</td>\n",
              "    </tr>\n",
              "    <tr>\n",
              "      <th>2021-07-13</th>\n",
              "      <td>3702.10</td>\n",
              "      <td>3773.0782</td>\n",
              "      <td>3671.3200</td>\n",
              "      <td>3677.36</td>\n",
              "      <td>3845917</td>\n",
              "    </tr>\n",
              "    <tr>\n",
              "      <th>2021-07-12</th>\n",
              "      <td>3744.00</td>\n",
              "      <td>3757.2899</td>\n",
              "      <td>3696.7929</td>\n",
              "      <td>3718.55</td>\n",
              "      <td>2571635</td>\n",
              "    </tr>\n",
              "  </tbody>\n",
              "</table>\n",
              "</div>"
            ],
            "text/plain": [
              "               Open       High        Low    Close   Volume\n",
              "Date                                                       \n",
              "2021-07-16  3633.31  3646.0599  3570.4550  3573.63  4043706\n",
              "2021-07-15  3694.20  3695.4000  3620.9200  3631.20  3185292\n",
              "2021-07-14  3708.85  3717.6600  3660.8266  3681.68  3296568\n",
              "2021-07-13  3702.10  3773.0782  3671.3200  3677.36  3845917\n",
              "2021-07-12  3744.00  3757.2899  3696.7929  3718.55  2571635"
            ]
          },
          "metadata": {
            "tags": []
          },
          "execution_count": 5
        }
      ]
    },
    {
      "cell_type": "code",
      "metadata": {
        "colab": {
          "base_uri": "https://localhost:8080/",
          "height": 390
        },
        "id": "HsPaMvq4_xEC",
        "outputId": "8c801088-1c7d-46d8-dc24-8adf69ac07da"
      },
      "source": [
        "df.head(10)"
      ],
      "execution_count": 6,
      "outputs": [
        {
          "output_type": "execute_result",
          "data": {
            "text/html": [
              "<div>\n",
              "<style scoped>\n",
              "    .dataframe tbody tr th:only-of-type {\n",
              "        vertical-align: middle;\n",
              "    }\n",
              "\n",
              "    .dataframe tbody tr th {\n",
              "        vertical-align: top;\n",
              "    }\n",
              "\n",
              "    .dataframe thead th {\n",
              "        text-align: right;\n",
              "    }\n",
              "</style>\n",
              "<table border=\"1\" class=\"dataframe\">\n",
              "  <thead>\n",
              "    <tr style=\"text-align: right;\">\n",
              "      <th></th>\n",
              "      <th>Open</th>\n",
              "      <th>High</th>\n",
              "      <th>Low</th>\n",
              "      <th>Close</th>\n",
              "      <th>Volume</th>\n",
              "    </tr>\n",
              "    <tr>\n",
              "      <th>Date</th>\n",
              "      <th></th>\n",
              "      <th></th>\n",
              "      <th></th>\n",
              "      <th></th>\n",
              "      <th></th>\n",
              "    </tr>\n",
              "  </thead>\n",
              "  <tbody>\n",
              "    <tr>\n",
              "      <th>2021-07-16</th>\n",
              "      <td>3633.3100</td>\n",
              "      <td>3646.0599</td>\n",
              "      <td>3570.4550</td>\n",
              "      <td>3573.63</td>\n",
              "      <td>4043706</td>\n",
              "    </tr>\n",
              "    <tr>\n",
              "      <th>2021-07-15</th>\n",
              "      <td>3694.2000</td>\n",
              "      <td>3695.4000</td>\n",
              "      <td>3620.9200</td>\n",
              "      <td>3631.20</td>\n",
              "      <td>3185292</td>\n",
              "    </tr>\n",
              "    <tr>\n",
              "      <th>2021-07-14</th>\n",
              "      <td>3708.8500</td>\n",
              "      <td>3717.6600</td>\n",
              "      <td>3660.8266</td>\n",
              "      <td>3681.68</td>\n",
              "      <td>3296568</td>\n",
              "    </tr>\n",
              "    <tr>\n",
              "      <th>2021-07-13</th>\n",
              "      <td>3702.1000</td>\n",
              "      <td>3773.0782</td>\n",
              "      <td>3671.3200</td>\n",
              "      <td>3677.36</td>\n",
              "      <td>3845917</td>\n",
              "    </tr>\n",
              "    <tr>\n",
              "      <th>2021-07-12</th>\n",
              "      <td>3744.0000</td>\n",
              "      <td>3757.2899</td>\n",
              "      <td>3696.7929</td>\n",
              "      <td>3718.55</td>\n",
              "      <td>2571635</td>\n",
              "    </tr>\n",
              "    <tr>\n",
              "      <th>2021-07-09</th>\n",
              "      <td>3722.5200</td>\n",
              "      <td>3748.0000</td>\n",
              "      <td>3693.3968</td>\n",
              "      <td>3719.34</td>\n",
              "      <td>3748237</td>\n",
              "    </tr>\n",
              "    <tr>\n",
              "      <th>2021-07-08</th>\n",
              "      <td>3643.5600</td>\n",
              "      <td>3759.9855</td>\n",
              "      <td>3621.1200</td>\n",
              "      <td>3731.41</td>\n",
              "      <td>5180623</td>\n",
              "    </tr>\n",
              "    <tr>\n",
              "      <th>2021-07-07</th>\n",
              "      <td>3717.3772</td>\n",
              "      <td>3734.2000</td>\n",
              "      <td>3678.9100</td>\n",
              "      <td>3696.58</td>\n",
              "      <td>5328062</td>\n",
              "    </tr>\n",
              "    <tr>\n",
              "      <th>2021-07-06</th>\n",
              "      <td>3530.1100</td>\n",
              "      <td>3685.4800</td>\n",
              "      <td>3529.0000</td>\n",
              "      <td>3675.74</td>\n",
              "      <td>6744768</td>\n",
              "    </tr>\n",
              "    <tr>\n",
              "      <th>2021-07-02</th>\n",
              "      <td>3451.6400</td>\n",
              "      <td>3511.7200</td>\n",
              "      <td>3436.9200</td>\n",
              "      <td>3510.98</td>\n",
              "      <td>3176697</td>\n",
              "    </tr>\n",
              "  </tbody>\n",
              "</table>\n",
              "</div>"
            ],
            "text/plain": [
              "                 Open       High        Low    Close   Volume\n",
              "Date                                                         \n",
              "2021-07-16  3633.3100  3646.0599  3570.4550  3573.63  4043706\n",
              "2021-07-15  3694.2000  3695.4000  3620.9200  3631.20  3185292\n",
              "2021-07-14  3708.8500  3717.6600  3660.8266  3681.68  3296568\n",
              "2021-07-13  3702.1000  3773.0782  3671.3200  3677.36  3845917\n",
              "2021-07-12  3744.0000  3757.2899  3696.7929  3718.55  2571635\n",
              "2021-07-09  3722.5200  3748.0000  3693.3968  3719.34  3748237\n",
              "2021-07-08  3643.5600  3759.9855  3621.1200  3731.41  5180623\n",
              "2021-07-07  3717.3772  3734.2000  3678.9100  3696.58  5328062\n",
              "2021-07-06  3530.1100  3685.4800  3529.0000  3675.74  6744768\n",
              "2021-07-02  3451.6400  3511.7200  3436.9200  3510.98  3176697"
            ]
          },
          "metadata": {
            "tags": []
          },
          "execution_count": 6
        }
      ]
    },
    {
      "cell_type": "code",
      "metadata": {
        "colab": {
          "base_uri": "https://localhost:8080/",
          "height": 235
        },
        "id": "peTQLRA__y4y",
        "outputId": "968ef0ea-3e1f-41df-bd2a-f8e63b4d2d7d"
      },
      "source": [
        "df.columns = [col.lower() for col in df.columns]\n",
        "df.head()"
      ],
      "execution_count": 7,
      "outputs": [
        {
          "output_type": "execute_result",
          "data": {
            "text/html": [
              "<div>\n",
              "<style scoped>\n",
              "    .dataframe tbody tr th:only-of-type {\n",
              "        vertical-align: middle;\n",
              "    }\n",
              "\n",
              "    .dataframe tbody tr th {\n",
              "        vertical-align: top;\n",
              "    }\n",
              "\n",
              "    .dataframe thead th {\n",
              "        text-align: right;\n",
              "    }\n",
              "</style>\n",
              "<table border=\"1\" class=\"dataframe\">\n",
              "  <thead>\n",
              "    <tr style=\"text-align: right;\">\n",
              "      <th></th>\n",
              "      <th>open</th>\n",
              "      <th>high</th>\n",
              "      <th>low</th>\n",
              "      <th>close</th>\n",
              "      <th>volume</th>\n",
              "    </tr>\n",
              "    <tr>\n",
              "      <th>Date</th>\n",
              "      <th></th>\n",
              "      <th></th>\n",
              "      <th></th>\n",
              "      <th></th>\n",
              "      <th></th>\n",
              "    </tr>\n",
              "  </thead>\n",
              "  <tbody>\n",
              "    <tr>\n",
              "      <th>2021-07-16</th>\n",
              "      <td>3633.31</td>\n",
              "      <td>3646.0599</td>\n",
              "      <td>3570.4550</td>\n",
              "      <td>3573.63</td>\n",
              "      <td>4043706</td>\n",
              "    </tr>\n",
              "    <tr>\n",
              "      <th>2021-07-15</th>\n",
              "      <td>3694.20</td>\n",
              "      <td>3695.4000</td>\n",
              "      <td>3620.9200</td>\n",
              "      <td>3631.20</td>\n",
              "      <td>3185292</td>\n",
              "    </tr>\n",
              "    <tr>\n",
              "      <th>2021-07-14</th>\n",
              "      <td>3708.85</td>\n",
              "      <td>3717.6600</td>\n",
              "      <td>3660.8266</td>\n",
              "      <td>3681.68</td>\n",
              "      <td>3296568</td>\n",
              "    </tr>\n",
              "    <tr>\n",
              "      <th>2021-07-13</th>\n",
              "      <td>3702.10</td>\n",
              "      <td>3773.0782</td>\n",
              "      <td>3671.3200</td>\n",
              "      <td>3677.36</td>\n",
              "      <td>3845917</td>\n",
              "    </tr>\n",
              "    <tr>\n",
              "      <th>2021-07-12</th>\n",
              "      <td>3744.00</td>\n",
              "      <td>3757.2899</td>\n",
              "      <td>3696.7929</td>\n",
              "      <td>3718.55</td>\n",
              "      <td>2571635</td>\n",
              "    </tr>\n",
              "  </tbody>\n",
              "</table>\n",
              "</div>"
            ],
            "text/plain": [
              "               open       high        low    close   volume\n",
              "Date                                                       \n",
              "2021-07-16  3633.31  3646.0599  3570.4550  3573.63  4043706\n",
              "2021-07-15  3694.20  3695.4000  3620.9200  3631.20  3185292\n",
              "2021-07-14  3708.85  3717.6600  3660.8266  3681.68  3296568\n",
              "2021-07-13  3702.10  3773.0782  3671.3200  3677.36  3845917\n",
              "2021-07-12  3744.00  3757.2899  3696.7929  3718.55  2571635"
            ]
          },
          "metadata": {
            "tags": []
          },
          "execution_count": 7
        }
      ]
    },
    {
      "cell_type": "code",
      "metadata": {
        "colab": {
          "base_uri": "https://localhost:8080/",
          "height": 297
        },
        "id": "QwrAuiRkARw6",
        "outputId": "469cf58b-6a08-4416-c082-534d77773373"
      },
      "source": [
        "df.describe()"
      ],
      "execution_count": 8,
      "outputs": [
        {
          "output_type": "execute_result",
          "data": {
            "text/html": [
              "<div>\n",
              "<style scoped>\n",
              "    .dataframe tbody tr th:only-of-type {\n",
              "        vertical-align: middle;\n",
              "    }\n",
              "\n",
              "    .dataframe tbody tr th {\n",
              "        vertical-align: top;\n",
              "    }\n",
              "\n",
              "    .dataframe thead th {\n",
              "        text-align: right;\n",
              "    }\n",
              "</style>\n",
              "<table border=\"1\" class=\"dataframe\">\n",
              "  <thead>\n",
              "    <tr style=\"text-align: right;\">\n",
              "      <th></th>\n",
              "      <th>open</th>\n",
              "      <th>high</th>\n",
              "      <th>low</th>\n",
              "      <th>close</th>\n",
              "      <th>volume</th>\n",
              "    </tr>\n",
              "  </thead>\n",
              "  <tbody>\n",
              "    <tr>\n",
              "      <th>count</th>\n",
              "      <td>1258.000000</td>\n",
              "      <td>1258.000000</td>\n",
              "      <td>1258.000000</td>\n",
              "      <td>1258.000000</td>\n",
              "      <td>1.258000e+03</td>\n",
              "    </tr>\n",
              "    <tr>\n",
              "      <th>mean</th>\n",
              "      <td>1842.751054</td>\n",
              "      <td>1861.764033</td>\n",
              "      <td>1821.299276</td>\n",
              "      <td>1842.046308</td>\n",
              "      <td>4.266309e+06</td>\n",
              "    </tr>\n",
              "    <tr>\n",
              "      <th>std</th>\n",
              "      <td>840.173467</td>\n",
              "      <td>850.872019</td>\n",
              "      <td>828.301708</td>\n",
              "      <td>839.135848</td>\n",
              "      <td>2.098446e+06</td>\n",
              "    </tr>\n",
              "    <tr>\n",
              "      <th>min</th>\n",
              "      <td>730.000000</td>\n",
              "      <td>740.940000</td>\n",
              "      <td>710.100000</td>\n",
              "      <td>719.070000</td>\n",
              "      <td>8.813370e+05</td>\n",
              "    </tr>\n",
              "    <tr>\n",
              "      <th>25%</th>\n",
              "      <td>1017.512500</td>\n",
              "      <td>1026.047500</td>\n",
              "      <td>1004.812500</td>\n",
              "      <td>1021.142500</td>\n",
              "      <td>2.877593e+06</td>\n",
              "    </tr>\n",
              "    <tr>\n",
              "      <th>50%</th>\n",
              "      <td>1755.000000</td>\n",
              "      <td>1769.750000</td>\n",
              "      <td>1735.630000</td>\n",
              "      <td>1755.125000</td>\n",
              "      <td>3.685278e+06</td>\n",
              "    </tr>\n",
              "    <tr>\n",
              "      <th>75%</th>\n",
              "      <td>2311.500000</td>\n",
              "      <td>2346.592250</td>\n",
              "      <td>2257.737575</td>\n",
              "      <td>2312.480000</td>\n",
              "      <td>5.114403e+06</td>\n",
              "    </tr>\n",
              "    <tr>\n",
              "      <th>max</th>\n",
              "      <td>3744.000000</td>\n",
              "      <td>3773.078200</td>\n",
              "      <td>3696.792900</td>\n",
              "      <td>3731.410000</td>\n",
              "      <td>1.655260e+07</td>\n",
              "    </tr>\n",
              "  </tbody>\n",
              "</table>\n",
              "</div>"
            ],
            "text/plain": [
              "              open         high          low        close        volume\n",
              "count  1258.000000  1258.000000  1258.000000  1258.000000  1.258000e+03\n",
              "mean   1842.751054  1861.764033  1821.299276  1842.046308  4.266309e+06\n",
              "std     840.173467   850.872019   828.301708   839.135848  2.098446e+06\n",
              "min     730.000000   740.940000   710.100000   719.070000  8.813370e+05\n",
              "25%    1017.512500  1026.047500  1004.812500  1021.142500  2.877593e+06\n",
              "50%    1755.000000  1769.750000  1735.630000  1755.125000  3.685278e+06\n",
              "75%    2311.500000  2346.592250  2257.737575  2312.480000  5.114403e+06\n",
              "max    3744.000000  3773.078200  3696.792900  3731.410000  1.655260e+07"
            ]
          },
          "metadata": {
            "tags": []
          },
          "execution_count": 8
        }
      ]
    },
    {
      "cell_type": "code",
      "metadata": {
        "colab": {
          "base_uri": "https://localhost:8080/",
          "height": 204
        },
        "id": "JzLQRspvAbyy",
        "outputId": "c2ea8696-88b2-47c4-e9e9-143a3643fca6"
      },
      "source": [
        "df.describe().T"
      ],
      "execution_count": 10,
      "outputs": [
        {
          "output_type": "execute_result",
          "data": {
            "text/html": [
              "<div>\n",
              "<style scoped>\n",
              "    .dataframe tbody tr th:only-of-type {\n",
              "        vertical-align: middle;\n",
              "    }\n",
              "\n",
              "    .dataframe tbody tr th {\n",
              "        vertical-align: top;\n",
              "    }\n",
              "\n",
              "    .dataframe thead th {\n",
              "        text-align: right;\n",
              "    }\n",
              "</style>\n",
              "<table border=\"1\" class=\"dataframe\">\n",
              "  <thead>\n",
              "    <tr style=\"text-align: right;\">\n",
              "      <th></th>\n",
              "      <th>count</th>\n",
              "      <th>mean</th>\n",
              "      <th>std</th>\n",
              "      <th>min</th>\n",
              "      <th>25%</th>\n",
              "      <th>50%</th>\n",
              "      <th>75%</th>\n",
              "      <th>max</th>\n",
              "    </tr>\n",
              "  </thead>\n",
              "  <tbody>\n",
              "    <tr>\n",
              "      <th>open</th>\n",
              "      <td>1258.0</td>\n",
              "      <td>1.842751e+03</td>\n",
              "      <td>8.401735e+02</td>\n",
              "      <td>730.00</td>\n",
              "      <td>1.017513e+03</td>\n",
              "      <td>1755.000</td>\n",
              "      <td>2.311500e+03</td>\n",
              "      <td>3.744000e+03</td>\n",
              "    </tr>\n",
              "    <tr>\n",
              "      <th>high</th>\n",
              "      <td>1258.0</td>\n",
              "      <td>1.861764e+03</td>\n",
              "      <td>8.508720e+02</td>\n",
              "      <td>740.94</td>\n",
              "      <td>1.026048e+03</td>\n",
              "      <td>1769.750</td>\n",
              "      <td>2.346592e+03</td>\n",
              "      <td>3.773078e+03</td>\n",
              "    </tr>\n",
              "    <tr>\n",
              "      <th>low</th>\n",
              "      <td>1258.0</td>\n",
              "      <td>1.821299e+03</td>\n",
              "      <td>8.283017e+02</td>\n",
              "      <td>710.10</td>\n",
              "      <td>1.004812e+03</td>\n",
              "      <td>1735.630</td>\n",
              "      <td>2.257738e+03</td>\n",
              "      <td>3.696793e+03</td>\n",
              "    </tr>\n",
              "    <tr>\n",
              "      <th>close</th>\n",
              "      <td>1258.0</td>\n",
              "      <td>1.842046e+03</td>\n",
              "      <td>8.391358e+02</td>\n",
              "      <td>719.07</td>\n",
              "      <td>1.021142e+03</td>\n",
              "      <td>1755.125</td>\n",
              "      <td>2.312480e+03</td>\n",
              "      <td>3.731410e+03</td>\n",
              "    </tr>\n",
              "    <tr>\n",
              "      <th>volume</th>\n",
              "      <td>1258.0</td>\n",
              "      <td>4.266309e+06</td>\n",
              "      <td>2.098446e+06</td>\n",
              "      <td>881337.00</td>\n",
              "      <td>2.877593e+06</td>\n",
              "      <td>3685278.500</td>\n",
              "      <td>5.114403e+06</td>\n",
              "      <td>1.655260e+07</td>\n",
              "    </tr>\n",
              "  </tbody>\n",
              "</table>\n",
              "</div>"
            ],
            "text/plain": [
              "         count          mean  ...           75%           max\n",
              "open    1258.0  1.842751e+03  ...  2.311500e+03  3.744000e+03\n",
              "high    1258.0  1.861764e+03  ...  2.346592e+03  3.773078e+03\n",
              "low     1258.0  1.821299e+03  ...  2.257738e+03  3.696793e+03\n",
              "close   1258.0  1.842046e+03  ...  2.312480e+03  3.731410e+03\n",
              "volume  1258.0  4.266309e+06  ...  5.114403e+06  1.655260e+07\n",
              "\n",
              "[5 rows x 8 columns]"
            ]
          },
          "metadata": {
            "tags": []
          },
          "execution_count": 10
        }
      ]
    },
    {
      "cell_type": "code",
      "metadata": {
        "colab": {
          "base_uri": "https://localhost:8080/",
          "height": 390
        },
        "id": "fp45AAJvAoSJ",
        "outputId": "99d4f235-19c7-45f1-87ff-e78de06697f0"
      },
      "source": [
        "df = df.head(10)\n",
        "df"
      ],
      "execution_count": 23,
      "outputs": [
        {
          "output_type": "execute_result",
          "data": {
            "text/html": [
              "<div>\n",
              "<style scoped>\n",
              "    .dataframe tbody tr th:only-of-type {\n",
              "        vertical-align: middle;\n",
              "    }\n",
              "\n",
              "    .dataframe tbody tr th {\n",
              "        vertical-align: top;\n",
              "    }\n",
              "\n",
              "    .dataframe thead th {\n",
              "        text-align: right;\n",
              "    }\n",
              "</style>\n",
              "<table border=\"1\" class=\"dataframe\">\n",
              "  <thead>\n",
              "    <tr style=\"text-align: right;\">\n",
              "      <th></th>\n",
              "      <th>open</th>\n",
              "      <th>high</th>\n",
              "      <th>low</th>\n",
              "      <th>close</th>\n",
              "      <th>volume</th>\n",
              "    </tr>\n",
              "    <tr>\n",
              "      <th>Date</th>\n",
              "      <th></th>\n",
              "      <th></th>\n",
              "      <th></th>\n",
              "      <th></th>\n",
              "      <th></th>\n",
              "    </tr>\n",
              "  </thead>\n",
              "  <tbody>\n",
              "    <tr>\n",
              "      <th>2021-07-16</th>\n",
              "      <td>3633.3100</td>\n",
              "      <td>3646.0599</td>\n",
              "      <td>3570.4550</td>\n",
              "      <td>3573.63</td>\n",
              "      <td>4043706</td>\n",
              "    </tr>\n",
              "    <tr>\n",
              "      <th>2021-07-15</th>\n",
              "      <td>3694.2000</td>\n",
              "      <td>3695.4000</td>\n",
              "      <td>3620.9200</td>\n",
              "      <td>3631.20</td>\n",
              "      <td>3185292</td>\n",
              "    </tr>\n",
              "    <tr>\n",
              "      <th>2021-07-14</th>\n",
              "      <td>3708.8500</td>\n",
              "      <td>3717.6600</td>\n",
              "      <td>3660.8266</td>\n",
              "      <td>3681.68</td>\n",
              "      <td>3296568</td>\n",
              "    </tr>\n",
              "    <tr>\n",
              "      <th>2021-07-13</th>\n",
              "      <td>3702.1000</td>\n",
              "      <td>3773.0782</td>\n",
              "      <td>3671.3200</td>\n",
              "      <td>3677.36</td>\n",
              "      <td>3845917</td>\n",
              "    </tr>\n",
              "    <tr>\n",
              "      <th>2021-07-12</th>\n",
              "      <td>3744.0000</td>\n",
              "      <td>3757.2899</td>\n",
              "      <td>3696.7929</td>\n",
              "      <td>3718.55</td>\n",
              "      <td>2571635</td>\n",
              "    </tr>\n",
              "    <tr>\n",
              "      <th>2021-07-09</th>\n",
              "      <td>3722.5200</td>\n",
              "      <td>3748.0000</td>\n",
              "      <td>3693.3968</td>\n",
              "      <td>3719.34</td>\n",
              "      <td>3748237</td>\n",
              "    </tr>\n",
              "    <tr>\n",
              "      <th>2021-07-08</th>\n",
              "      <td>3643.5600</td>\n",
              "      <td>3759.9855</td>\n",
              "      <td>3621.1200</td>\n",
              "      <td>3731.41</td>\n",
              "      <td>5180623</td>\n",
              "    </tr>\n",
              "    <tr>\n",
              "      <th>2021-07-07</th>\n",
              "      <td>3717.3772</td>\n",
              "      <td>3734.2000</td>\n",
              "      <td>3678.9100</td>\n",
              "      <td>3696.58</td>\n",
              "      <td>5328062</td>\n",
              "    </tr>\n",
              "    <tr>\n",
              "      <th>2021-07-06</th>\n",
              "      <td>3530.1100</td>\n",
              "      <td>3685.4800</td>\n",
              "      <td>3529.0000</td>\n",
              "      <td>3675.74</td>\n",
              "      <td>6744768</td>\n",
              "    </tr>\n",
              "    <tr>\n",
              "      <th>2021-07-02</th>\n",
              "      <td>3451.6400</td>\n",
              "      <td>3511.7200</td>\n",
              "      <td>3436.9200</td>\n",
              "      <td>3510.98</td>\n",
              "      <td>3176697</td>\n",
              "    </tr>\n",
              "  </tbody>\n",
              "</table>\n",
              "</div>"
            ],
            "text/plain": [
              "                 open       high        low    close   volume\n",
              "Date                                                         \n",
              "2021-07-16  3633.3100  3646.0599  3570.4550  3573.63  4043706\n",
              "2021-07-15  3694.2000  3695.4000  3620.9200  3631.20  3185292\n",
              "2021-07-14  3708.8500  3717.6600  3660.8266  3681.68  3296568\n",
              "2021-07-13  3702.1000  3773.0782  3671.3200  3677.36  3845917\n",
              "2021-07-12  3744.0000  3757.2899  3696.7929  3718.55  2571635\n",
              "2021-07-09  3722.5200  3748.0000  3693.3968  3719.34  3748237\n",
              "2021-07-08  3643.5600  3759.9855  3621.1200  3731.41  5180623\n",
              "2021-07-07  3717.3772  3734.2000  3678.9100  3696.58  5328062\n",
              "2021-07-06  3530.1100  3685.4800  3529.0000  3675.74  6744768\n",
              "2021-07-02  3451.6400  3511.7200  3436.9200  3510.98  3176697"
            ]
          },
          "metadata": {
            "tags": []
          },
          "execution_count": 23
        }
      ]
    },
    {
      "cell_type": "code",
      "metadata": {
        "colab": {
          "base_uri": "https://localhost:8080/"
        },
        "id": "_ZZN3iJyA3np",
        "outputId": "1dbaf490-b2b8-468e-825b-bba679c4fbd4"
      },
      "source": [
        "df['open']"
      ],
      "execution_count": 12,
      "outputs": [
        {
          "output_type": "execute_result",
          "data": {
            "text/plain": [
              "Date\n",
              "2021-07-16    3633.3100\n",
              "2021-07-15    3694.2000\n",
              "2021-07-14    3708.8500\n",
              "2021-07-13    3702.1000\n",
              "2021-07-12    3744.0000\n",
              "2021-07-09    3722.5200\n",
              "2021-07-08    3643.5600\n",
              "2021-07-07    3717.3772\n",
              "2021-07-06    3530.1100\n",
              "2021-07-02    3451.6400\n",
              "Name: open, dtype: float64"
            ]
          },
          "metadata": {
            "tags": []
          },
          "execution_count": 12
        }
      ]
    },
    {
      "cell_type": "code",
      "metadata": {
        "colab": {
          "base_uri": "https://localhost:8080/"
        },
        "id": "mzQbNhHkA8Gi",
        "outputId": "d05b0179-9e03-47b2-e6d0-710366273259"
      },
      "source": [
        "df.open"
      ],
      "execution_count": 13,
      "outputs": [
        {
          "output_type": "execute_result",
          "data": {
            "text/plain": [
              "Date\n",
              "2021-07-16    3633.3100\n",
              "2021-07-15    3694.2000\n",
              "2021-07-14    3708.8500\n",
              "2021-07-13    3702.1000\n",
              "2021-07-12    3744.0000\n",
              "2021-07-09    3722.5200\n",
              "2021-07-08    3643.5600\n",
              "2021-07-07    3717.3772\n",
              "2021-07-06    3530.1100\n",
              "2021-07-02    3451.6400\n",
              "Name: open, dtype: float64"
            ]
          },
          "metadata": {
            "tags": []
          },
          "execution_count": 13
        }
      ]
    },
    {
      "cell_type": "code",
      "metadata": {
        "colab": {
          "base_uri": "https://localhost:8080/",
          "height": 390
        },
        "id": "7RHl3IfhA-Uq",
        "outputId": "9f9882c5-6054-4a13-9eea-78cfe6487e27"
      },
      "source": [
        "df[['open']]"
      ],
      "execution_count": 15,
      "outputs": [
        {
          "output_type": "execute_result",
          "data": {
            "text/html": [
              "<div>\n",
              "<style scoped>\n",
              "    .dataframe tbody tr th:only-of-type {\n",
              "        vertical-align: middle;\n",
              "    }\n",
              "\n",
              "    .dataframe tbody tr th {\n",
              "        vertical-align: top;\n",
              "    }\n",
              "\n",
              "    .dataframe thead th {\n",
              "        text-align: right;\n",
              "    }\n",
              "</style>\n",
              "<table border=\"1\" class=\"dataframe\">\n",
              "  <thead>\n",
              "    <tr style=\"text-align: right;\">\n",
              "      <th></th>\n",
              "      <th>open</th>\n",
              "    </tr>\n",
              "    <tr>\n",
              "      <th>Date</th>\n",
              "      <th></th>\n",
              "    </tr>\n",
              "  </thead>\n",
              "  <tbody>\n",
              "    <tr>\n",
              "      <th>2021-07-16</th>\n",
              "      <td>3633.3100</td>\n",
              "    </tr>\n",
              "    <tr>\n",
              "      <th>2021-07-15</th>\n",
              "      <td>3694.2000</td>\n",
              "    </tr>\n",
              "    <tr>\n",
              "      <th>2021-07-14</th>\n",
              "      <td>3708.8500</td>\n",
              "    </tr>\n",
              "    <tr>\n",
              "      <th>2021-07-13</th>\n",
              "      <td>3702.1000</td>\n",
              "    </tr>\n",
              "    <tr>\n",
              "      <th>2021-07-12</th>\n",
              "      <td>3744.0000</td>\n",
              "    </tr>\n",
              "    <tr>\n",
              "      <th>2021-07-09</th>\n",
              "      <td>3722.5200</td>\n",
              "    </tr>\n",
              "    <tr>\n",
              "      <th>2021-07-08</th>\n",
              "      <td>3643.5600</td>\n",
              "    </tr>\n",
              "    <tr>\n",
              "      <th>2021-07-07</th>\n",
              "      <td>3717.3772</td>\n",
              "    </tr>\n",
              "    <tr>\n",
              "      <th>2021-07-06</th>\n",
              "      <td>3530.1100</td>\n",
              "    </tr>\n",
              "    <tr>\n",
              "      <th>2021-07-02</th>\n",
              "      <td>3451.6400</td>\n",
              "    </tr>\n",
              "  </tbody>\n",
              "</table>\n",
              "</div>"
            ],
            "text/plain": [
              "                 open\n",
              "Date                 \n",
              "2021-07-16  3633.3100\n",
              "2021-07-15  3694.2000\n",
              "2021-07-14  3708.8500\n",
              "2021-07-13  3702.1000\n",
              "2021-07-12  3744.0000\n",
              "2021-07-09  3722.5200\n",
              "2021-07-08  3643.5600\n",
              "2021-07-07  3717.3772\n",
              "2021-07-06  3530.1100\n",
              "2021-07-02  3451.6400"
            ]
          },
          "metadata": {
            "tags": []
          },
          "execution_count": 15
        }
      ]
    },
    {
      "cell_type": "code",
      "metadata": {
        "colab": {
          "base_uri": "https://localhost:8080/"
        },
        "id": "8X0_0cWZBCuy",
        "outputId": "29795c14-bdd2-4ec4-ae16-f4c1fd50e843"
      },
      "source": [
        "df.iloc[:, 0]"
      ],
      "execution_count": 16,
      "outputs": [
        {
          "output_type": "execute_result",
          "data": {
            "text/plain": [
              "Date\n",
              "2021-07-16    3633.3100\n",
              "2021-07-15    3694.2000\n",
              "2021-07-14    3708.8500\n",
              "2021-07-13    3702.1000\n",
              "2021-07-12    3744.0000\n",
              "2021-07-09    3722.5200\n",
              "2021-07-08    3643.5600\n",
              "2021-07-07    3717.3772\n",
              "2021-07-06    3530.1100\n",
              "2021-07-02    3451.6400\n",
              "Name: open, dtype: float64"
            ]
          },
          "metadata": {
            "tags": []
          },
          "execution_count": 16
        }
      ]
    },
    {
      "cell_type": "code",
      "metadata": {
        "colab": {
          "base_uri": "https://localhost:8080/",
          "height": 390
        },
        "id": "TQq0HMhYBScY",
        "outputId": "1f55a612-dd74-4a06-e665-527066dad5d7"
      },
      "source": [
        "\n",
        "df.iloc[:, [0, 3]]"
      ],
      "execution_count": 17,
      "outputs": [
        {
          "output_type": "execute_result",
          "data": {
            "text/html": [
              "<div>\n",
              "<style scoped>\n",
              "    .dataframe tbody tr th:only-of-type {\n",
              "        vertical-align: middle;\n",
              "    }\n",
              "\n",
              "    .dataframe tbody tr th {\n",
              "        vertical-align: top;\n",
              "    }\n",
              "\n",
              "    .dataframe thead th {\n",
              "        text-align: right;\n",
              "    }\n",
              "</style>\n",
              "<table border=\"1\" class=\"dataframe\">\n",
              "  <thead>\n",
              "    <tr style=\"text-align: right;\">\n",
              "      <th></th>\n",
              "      <th>open</th>\n",
              "      <th>close</th>\n",
              "    </tr>\n",
              "    <tr>\n",
              "      <th>Date</th>\n",
              "      <th></th>\n",
              "      <th></th>\n",
              "    </tr>\n",
              "  </thead>\n",
              "  <tbody>\n",
              "    <tr>\n",
              "      <th>2021-07-16</th>\n",
              "      <td>3633.3100</td>\n",
              "      <td>3573.63</td>\n",
              "    </tr>\n",
              "    <tr>\n",
              "      <th>2021-07-15</th>\n",
              "      <td>3694.2000</td>\n",
              "      <td>3631.20</td>\n",
              "    </tr>\n",
              "    <tr>\n",
              "      <th>2021-07-14</th>\n",
              "      <td>3708.8500</td>\n",
              "      <td>3681.68</td>\n",
              "    </tr>\n",
              "    <tr>\n",
              "      <th>2021-07-13</th>\n",
              "      <td>3702.1000</td>\n",
              "      <td>3677.36</td>\n",
              "    </tr>\n",
              "    <tr>\n",
              "      <th>2021-07-12</th>\n",
              "      <td>3744.0000</td>\n",
              "      <td>3718.55</td>\n",
              "    </tr>\n",
              "    <tr>\n",
              "      <th>2021-07-09</th>\n",
              "      <td>3722.5200</td>\n",
              "      <td>3719.34</td>\n",
              "    </tr>\n",
              "    <tr>\n",
              "      <th>2021-07-08</th>\n",
              "      <td>3643.5600</td>\n",
              "      <td>3731.41</td>\n",
              "    </tr>\n",
              "    <tr>\n",
              "      <th>2021-07-07</th>\n",
              "      <td>3717.3772</td>\n",
              "      <td>3696.58</td>\n",
              "    </tr>\n",
              "    <tr>\n",
              "      <th>2021-07-06</th>\n",
              "      <td>3530.1100</td>\n",
              "      <td>3675.74</td>\n",
              "    </tr>\n",
              "    <tr>\n",
              "      <th>2021-07-02</th>\n",
              "      <td>3451.6400</td>\n",
              "      <td>3510.98</td>\n",
              "    </tr>\n",
              "  </tbody>\n",
              "</table>\n",
              "</div>"
            ],
            "text/plain": [
              "                 open    close\n",
              "Date                          \n",
              "2021-07-16  3633.3100  3573.63\n",
              "2021-07-15  3694.2000  3631.20\n",
              "2021-07-14  3708.8500  3681.68\n",
              "2021-07-13  3702.1000  3677.36\n",
              "2021-07-12  3744.0000  3718.55\n",
              "2021-07-09  3722.5200  3719.34\n",
              "2021-07-08  3643.5600  3731.41\n",
              "2021-07-07  3717.3772  3696.58\n",
              "2021-07-06  3530.1100  3675.74\n",
              "2021-07-02  3451.6400  3510.98"
            ]
          },
          "metadata": {
            "tags": []
          },
          "execution_count": 17
        }
      ]
    },
    {
      "cell_type": "code",
      "metadata": {
        "colab": {
          "base_uri": "https://localhost:8080/",
          "height": 390
        },
        "id": "cEtedwxVBZ3h",
        "outputId": "ac058131-1a7b-4150-a580-8ffa36eb23cd"
      },
      "source": [
        "df.iloc[:, 3:5]"
      ],
      "execution_count": 18,
      "outputs": [
        {
          "output_type": "execute_result",
          "data": {
            "text/html": [
              "<div>\n",
              "<style scoped>\n",
              "    .dataframe tbody tr th:only-of-type {\n",
              "        vertical-align: middle;\n",
              "    }\n",
              "\n",
              "    .dataframe tbody tr th {\n",
              "        vertical-align: top;\n",
              "    }\n",
              "\n",
              "    .dataframe thead th {\n",
              "        text-align: right;\n",
              "    }\n",
              "</style>\n",
              "<table border=\"1\" class=\"dataframe\">\n",
              "  <thead>\n",
              "    <tr style=\"text-align: right;\">\n",
              "      <th></th>\n",
              "      <th>close</th>\n",
              "      <th>volume</th>\n",
              "    </tr>\n",
              "    <tr>\n",
              "      <th>Date</th>\n",
              "      <th></th>\n",
              "      <th></th>\n",
              "    </tr>\n",
              "  </thead>\n",
              "  <tbody>\n",
              "    <tr>\n",
              "      <th>2021-07-16</th>\n",
              "      <td>3573.63</td>\n",
              "      <td>4043706</td>\n",
              "    </tr>\n",
              "    <tr>\n",
              "      <th>2021-07-15</th>\n",
              "      <td>3631.20</td>\n",
              "      <td>3185292</td>\n",
              "    </tr>\n",
              "    <tr>\n",
              "      <th>2021-07-14</th>\n",
              "      <td>3681.68</td>\n",
              "      <td>3296568</td>\n",
              "    </tr>\n",
              "    <tr>\n",
              "      <th>2021-07-13</th>\n",
              "      <td>3677.36</td>\n",
              "      <td>3845917</td>\n",
              "    </tr>\n",
              "    <tr>\n",
              "      <th>2021-07-12</th>\n",
              "      <td>3718.55</td>\n",
              "      <td>2571635</td>\n",
              "    </tr>\n",
              "    <tr>\n",
              "      <th>2021-07-09</th>\n",
              "      <td>3719.34</td>\n",
              "      <td>3748237</td>\n",
              "    </tr>\n",
              "    <tr>\n",
              "      <th>2021-07-08</th>\n",
              "      <td>3731.41</td>\n",
              "      <td>5180623</td>\n",
              "    </tr>\n",
              "    <tr>\n",
              "      <th>2021-07-07</th>\n",
              "      <td>3696.58</td>\n",
              "      <td>5328062</td>\n",
              "    </tr>\n",
              "    <tr>\n",
              "      <th>2021-07-06</th>\n",
              "      <td>3675.74</td>\n",
              "      <td>6744768</td>\n",
              "    </tr>\n",
              "    <tr>\n",
              "      <th>2021-07-02</th>\n",
              "      <td>3510.98</td>\n",
              "      <td>3176697</td>\n",
              "    </tr>\n",
              "  </tbody>\n",
              "</table>\n",
              "</div>"
            ],
            "text/plain": [
              "              close   volume\n",
              "Date                        \n",
              "2021-07-16  3573.63  4043706\n",
              "2021-07-15  3631.20  3185292\n",
              "2021-07-14  3681.68  3296568\n",
              "2021-07-13  3677.36  3845917\n",
              "2021-07-12  3718.55  2571635\n",
              "2021-07-09  3719.34  3748237\n",
              "2021-07-08  3731.41  5180623\n",
              "2021-07-07  3696.58  5328062\n",
              "2021-07-06  3675.74  6744768\n",
              "2021-07-02  3510.98  3176697"
            ]
          },
          "metadata": {
            "tags": []
          },
          "execution_count": 18
        }
      ]
    },
    {
      "cell_type": "code",
      "metadata": {
        "colab": {
          "base_uri": "https://localhost:8080/",
          "height": 390
        },
        "id": "8g9cD_T0Be2w",
        "outputId": "efe92d66-053d-4bed-e0c7-6dcbd44fdc9d"
      },
      "source": [
        "df.iloc[:, [-1]]"
      ],
      "execution_count": 20,
      "outputs": [
        {
          "output_type": "execute_result",
          "data": {
            "text/html": [
              "<div>\n",
              "<style scoped>\n",
              "    .dataframe tbody tr th:only-of-type {\n",
              "        vertical-align: middle;\n",
              "    }\n",
              "\n",
              "    .dataframe tbody tr th {\n",
              "        vertical-align: top;\n",
              "    }\n",
              "\n",
              "    .dataframe thead th {\n",
              "        text-align: right;\n",
              "    }\n",
              "</style>\n",
              "<table border=\"1\" class=\"dataframe\">\n",
              "  <thead>\n",
              "    <tr style=\"text-align: right;\">\n",
              "      <th></th>\n",
              "      <th>volume</th>\n",
              "    </tr>\n",
              "    <tr>\n",
              "      <th>Date</th>\n",
              "      <th></th>\n",
              "    </tr>\n",
              "  </thead>\n",
              "  <tbody>\n",
              "    <tr>\n",
              "      <th>2021-07-16</th>\n",
              "      <td>4043706</td>\n",
              "    </tr>\n",
              "    <tr>\n",
              "      <th>2021-07-15</th>\n",
              "      <td>3185292</td>\n",
              "    </tr>\n",
              "    <tr>\n",
              "      <th>2021-07-14</th>\n",
              "      <td>3296568</td>\n",
              "    </tr>\n",
              "    <tr>\n",
              "      <th>2021-07-13</th>\n",
              "      <td>3845917</td>\n",
              "    </tr>\n",
              "    <tr>\n",
              "      <th>2021-07-12</th>\n",
              "      <td>2571635</td>\n",
              "    </tr>\n",
              "    <tr>\n",
              "      <th>2021-07-09</th>\n",
              "      <td>3748237</td>\n",
              "    </tr>\n",
              "    <tr>\n",
              "      <th>2021-07-08</th>\n",
              "      <td>5180623</td>\n",
              "    </tr>\n",
              "    <tr>\n",
              "      <th>2021-07-07</th>\n",
              "      <td>5328062</td>\n",
              "    </tr>\n",
              "    <tr>\n",
              "      <th>2021-07-06</th>\n",
              "      <td>6744768</td>\n",
              "    </tr>\n",
              "    <tr>\n",
              "      <th>2021-07-02</th>\n",
              "      <td>3176697</td>\n",
              "    </tr>\n",
              "  </tbody>\n",
              "</table>\n",
              "</div>"
            ],
            "text/plain": [
              "             volume\n",
              "Date               \n",
              "2021-07-16  4043706\n",
              "2021-07-15  3185292\n",
              "2021-07-14  3296568\n",
              "2021-07-13  3845917\n",
              "2021-07-12  2571635\n",
              "2021-07-09  3748237\n",
              "2021-07-08  5180623\n",
              "2021-07-07  5328062\n",
              "2021-07-06  6744768\n",
              "2021-07-02  3176697"
            ]
          },
          "metadata": {
            "tags": []
          },
          "execution_count": 20
        }
      ]
    },
    {
      "cell_type": "code",
      "metadata": {
        "colab": {
          "base_uri": "https://localhost:8080/"
        },
        "id": "PQ5JAVcfEbW-",
        "outputId": "525d918f-a994-46f2-f156-b8e57c9a6348"
      },
      "source": [
        "df.iloc[0]"
      ],
      "execution_count": 24,
      "outputs": [
        {
          "output_type": "execute_result",
          "data": {
            "text/plain": [
              "open      3.633310e+03\n",
              "high      3.646060e+03\n",
              "low       3.570455e+03\n",
              "close     3.573630e+03\n",
              "volume    4.043706e+06\n",
              "Name: 2021-07-16 00:00:00, dtype: float64"
            ]
          },
          "metadata": {
            "tags": []
          },
          "execution_count": 24
        }
      ]
    },
    {
      "cell_type": "code",
      "metadata": {
        "colab": {
          "base_uri": "https://localhost:8080/",
          "height": 111
        },
        "id": "23AL5_IMEqqm",
        "outputId": "fce17385-d3a6-48ac-9be6-1f4d840e3b64"
      },
      "source": [
        "df.loc['2021-07-16']"
      ],
      "execution_count": 25,
      "outputs": [
        {
          "output_type": "execute_result",
          "data": {
            "text/html": [
              "<div>\n",
              "<style scoped>\n",
              "    .dataframe tbody tr th:only-of-type {\n",
              "        vertical-align: middle;\n",
              "    }\n",
              "\n",
              "    .dataframe tbody tr th {\n",
              "        vertical-align: top;\n",
              "    }\n",
              "\n",
              "    .dataframe thead th {\n",
              "        text-align: right;\n",
              "    }\n",
              "</style>\n",
              "<table border=\"1\" class=\"dataframe\">\n",
              "  <thead>\n",
              "    <tr style=\"text-align: right;\">\n",
              "      <th></th>\n",
              "      <th>open</th>\n",
              "      <th>high</th>\n",
              "      <th>low</th>\n",
              "      <th>close</th>\n",
              "      <th>volume</th>\n",
              "    </tr>\n",
              "    <tr>\n",
              "      <th>Date</th>\n",
              "      <th></th>\n",
              "      <th></th>\n",
              "      <th></th>\n",
              "      <th></th>\n",
              "      <th></th>\n",
              "    </tr>\n",
              "  </thead>\n",
              "  <tbody>\n",
              "    <tr>\n",
              "      <th>2021-07-16</th>\n",
              "      <td>3633.31</td>\n",
              "      <td>3646.0599</td>\n",
              "      <td>3570.455</td>\n",
              "      <td>3573.63</td>\n",
              "      <td>4043706</td>\n",
              "    </tr>\n",
              "  </tbody>\n",
              "</table>\n",
              "</div>"
            ],
            "text/plain": [
              "               open       high       low    close   volume\n",
              "Date                                                      \n",
              "2021-07-16  3633.31  3646.0599  3570.455  3573.63  4043706"
            ]
          },
          "metadata": {
            "tags": []
          },
          "execution_count": 25
        }
      ]
    },
    {
      "cell_type": "code",
      "metadata": {
        "id": "tm6Huq_vE9t2"
      },
      "source": [
        ""
      ],
      "execution_count": null,
      "outputs": []
    }
  ]
}